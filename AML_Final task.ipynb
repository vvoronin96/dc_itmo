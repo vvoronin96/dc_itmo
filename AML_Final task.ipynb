{
 "cells": [
  {
   "cell_type": "code",
   "execution_count": 27,
   "metadata": {},
   "outputs": [
    {
     "name": "stdout",
     "output_type": "stream",
     "text": [
      "Requirement already satisfied: scikit-learn==0.23.0 in c:\\users\\victor\\anaconda3\\lib\\site-packages (0.23.0)\n",
      "Requirement already satisfied: threadpoolctl>=2.0.0 in c:\\users\\victor\\anaconda3\\lib\\site-packages (from scikit-learn==0.23.0) (2.1.0)\n",
      "Requirement already satisfied: numpy>=1.13.3 in c:\\users\\victor\\anaconda3\\lib\\site-packages (from scikit-learn==0.23.0) (1.19.2)\n",
      "Requirement already satisfied: joblib>=0.11 in c:\\users\\victor\\anaconda3\\lib\\site-packages (from scikit-learn==0.23.0) (0.17.0)\n",
      "Requirement already satisfied: scipy>=0.19.1 in c:\\users\\victor\\anaconda3\\lib\\site-packages (from scikit-learn==0.23.0) (1.5.2)\n"
     ]
    }
   ],
   "source": [
    "#!pip install --upgrade pip\n",
    "!pip install --upgrade scikit-learn==0.23.0"
   ]
  },
  {
   "cell_type": "code",
   "execution_count": 28,
   "metadata": {},
   "outputs": [],
   "source": [
    "#!pip install --upgrade tensorflow"
   ]
  },
  {
   "cell_type": "code",
   "execution_count": 29,
   "metadata": {},
   "outputs": [
    {
     "name": "stdout",
     "output_type": "stream",
     "text": [
      "Num GPUs Available:  0\n"
     ]
    }
   ],
   "source": [
    "import numpy as np\n",
    "import matplotlib\n",
    "import matplotlib.pyplot as plt\n",
    "%matplotlib inline\n",
    "import tensorflow as tf\n",
    "import keras\n",
    "print(\"Num GPUs Available: \", len(tf.config.list_physical_devices('GPU')))"
   ]
  },
  {
   "cell_type": "code",
   "execution_count": 30,
   "metadata": {},
   "outputs": [],
   "source": [
    "from keras.datasets import mnist\n",
    "(x_train, y_train), (x_pred, y_pred) = mnist.load_data()\n",
    "#x_train.shape => [60000,28,28]\n",
    "dim = x_train.shape[1] * x_train.shape[2]\n",
    "x_train = x_train.reshape(len(x_train), dim)\n",
    "#x_train.shape => [60000, 784]"
   ]
  },
  {
   "cell_type": "markdown",
   "metadata": {},
   "source": [
    "# PCA"
   ]
  },
  {
   "cell_type": "code",
   "execution_count": 31,
   "metadata": {},
   "outputs": [],
   "source": [
    "#from sklearn.model_selection import train_test_split\n",
    "from sklearn.decomposition import PCA\n",
    "n_components = x_train.shape[1] \n",
    "pca = PCA(n_components)\n",
    "model_pca = pca.fit(x_train)\n",
    "x_pca_transform = model_pca.transform(x_train)"
   ]
  },
  {
   "cell_type": "code",
   "execution_count": 55,
   "metadata": {},
   "outputs": [
    {
     "name": "stdout",
     "output_type": "stream",
     "text": [
      "A number of principial components explain more than 0.74 variance is 32\n",
      "Explained variance [0.724 0.731 0.737 0.744 0.75 ]\n"
     ]
    }
   ],
   "source": [
    "explained_variance = np.round(np.cumsum(pca.explained_variance_ratio_), 3)\n",
    "threshold = 0.74\n",
    "index = np.where(explained_variance > threshold)[0][0] +1 #find the first meet of excees of 0.74\n",
    "print(\"A number of principial components explain more than {0} variance is {1}\".format(threshold, index))\n",
    "print(\"Explained variance\", explained_variance[index-4:index+1])"
   ]
  },
  {
   "cell_type": "code",
   "execution_count": 56,
   "metadata": {},
   "outputs": [
    {
     "name": "stdout",
     "output_type": "stream",
     "text": [
      "Before (60000, 784)\n",
      "After transform (60000, 32)\n"
     ]
    }
   ],
   "source": [
    "(x_train, y_train), (x_pred, y_pred) = mnist.load_data()\n",
    "x_train = x_train.reshape(len(x_train), dim)\n",
    "print(\"Before\", x_train.shape)\n",
    "pca1 = PCA(n_components = index, svd_solver = 'full')\n",
    "model_pca1 = pca1.fit(x_train)\n",
    "x_pca_transform1 = model_pca1.transform(x_train)\n",
    "print(\"After transform\", x_pca_transform1.shape)"
   ]
  },
  {
   "cell_type": "code",
   "execution_count": 57,
   "metadata": {},
   "outputs": [
    {
     "name": "stdout",
     "output_type": "stream",
     "text": [
      "Sample mean for zero column derived dataset 0.92\n"
     ]
    }
   ],
   "source": [
    "from sklearn.model_selection import train_test_split\n",
    "x_train1, x_test1, y_train1, y_test1 = train_test_split(x_pca_transform1, y_train, test_size = 0.3, random_state = 27)\n",
    "print(\"Sample mean for zero column derived dataset {0:.2f}\".format(np.mean(x_train1, axis = 0)[0]))"
   ]
  },
  {
   "cell_type": "markdown",
   "metadata": {},
   "source": [
    "# RandomForest"
   ]
  },
  {
   "cell_type": "code",
   "execution_count": 58,
   "metadata": {},
   "outputs": [],
   "source": [
    "from sklearn.multiclass import OneVsRestClassifier\n",
    "from sklearn.tree import DecisionTreeClassifier\n",
    "from sklearn.ensemble import RandomForestClassifier"
   ]
  },
  {
   "cell_type": "code",
   "execution_count": 59,
   "metadata": {},
   "outputs": [],
   "source": [
    "random_forest = RandomForestClassifier(criterion='gini', min_samples_leaf=10, max_depth=20, n_estimators=10, random_state=27)\n",
    "clf_rf = OneVsRestClassifier(random_forest)\n",
    "clf_rf.fit(x_train1, y_train1)\n",
    "rf_predictions = clf_rf.predict(x_test1)"
   ]
  },
  {
   "cell_type": "code",
   "execution_count": 60,
   "metadata": {},
   "outputs": [
    {
     "data": {
      "image/png": "[encoded data removed]",
      "text/plain": [
       "<Figure size 432x288 with 2 Axes>"
      ]
     },
     "metadata": {
      "needs_background": "light"
     },
     "output_type": "display_data"
    },
    {
     "name": "stdout",
     "output_type": "stream",
     "text": [
      "the number of correctly classified objects of class 4 for the test data is 1648\n"
     ]
    }
   ],
   "source": [
    "from sklearn.metrics import plot_confusion_matrix\n",
    "from sklearn.metrics import confusion_matrix\n",
    "clf_rf_cm = confusion_matrix(y_test1, rf_predictions)\n",
    "plot_confusion_matrix(clf_rf, x_test1, y_test1) #display_labels = y_test1)\n",
    "plt.show();\n",
    "target_class = 4\n",
    "print(\"the number of correctly classified objects of class {0} for the test data is {1}\".format(target_class, clf_rf_cm[target_class][target_class]))"
   ]
  },
  {
   "cell_type": "markdown",
   "metadata": {},
   "source": [
    "# LogisticRegression"
   ]
  },
  {
   "cell_type": "code",
   "execution_count": 61,
   "metadata": {},
   "outputs": [
    {
     "name": "stderr",
     "output_type": "stream",
     "text": [
      "C:\\Users\\Victor\\anaconda3\\lib\\site-packages\\sklearn\\linear_model\\_logistic.py:760: ConvergenceWarning: lbfgs failed to converge (status=1):\n",
      "STOP: TOTAL NO. of ITERATIONS REACHED LIMIT.\n",
      "\n",
      "Increase the number of iterations (max_iter) or scale the data as shown in:\n",
      "    https://scikit-learn.org/stable/modules/preprocessing.html\n",
      "Please also refer to the documentation for alternative solver options:\n",
      "    https://scikit-learn.org/stable/modules/linear_model.html#logistic-regression\n",
      "  n_iter_i = _check_optimize_result(\n"
     ]
    }
   ],
   "source": [
    "from sklearn.linear_model import LogisticRegression\n",
    "lr = LogisticRegression(solver='lbfgs', random_state=27)\n",
    "clf_lr = OneVsRestClassifier(lr)\n",
    "clf_lr.fit(x_train1, y_train1)\n",
    "lr_predictions = clf_lr.predict(x_test1)"
   ]
  },
  {
   "cell_type": "code",
   "execution_count": 62,
   "metadata": {},
   "outputs": [
    {
     "data": {
      "image/png": "[encoded data removed]",
      "text/plain": [
       "<Figure size 432x288 with 2 Axes>"
      ]
     },
     "metadata": {
      "needs_background": "light"
     },
     "output_type": "display_data"
    },
    {
     "name": "stdout",
     "output_type": "stream",
     "text": [
      "the number of correctly classified objects of class 0 for the test data is 1706\n"
     ]
    }
   ],
   "source": [
    "clf_lr_cm = confusion_matrix(y_test1, lr_predictions)\n",
    "plot_confusion_matrix(clf_lr, x_test1, y_test1)\n",
    "plt.show();\n",
    "target_class = 0\n",
    "print(\"the number of correctly classified objects of class {0} for the test data is {1}\".format(target_class, clf_lr_cm[target_class][target_class]))"
   ]
  },
  {
   "cell_type": "markdown",
   "metadata": {},
   "source": [
    "# Decision tree"
   ]
  },
  {
   "cell_type": "code",
   "execution_count": 63,
   "metadata": {},
   "outputs": [],
   "source": [
    "from sklearn.tree import DecisionTreeClassifier\n",
    "dt = DecisionTreeClassifier(criterion='gini', min_samples_leaf=10, max_depth=20, random_state=27)\n",
    "clf_dt = OneVsRestClassifier(dt)\n",
    "clf_dt.fit(x_train1, y_train1)\n",
    "dt_predictions = clf_dt.predict(x_test1)"
   ]
  },
  {
   "cell_type": "code",
   "execution_count": 64,
   "metadata": {},
   "outputs": [
    {
     "data": {
      "image/png": "[encoded data removed]",
      "text/plain": [
       "<Figure size 432x288 with 2 Axes>"
      ]
     },
     "metadata": {
      "needs_background": "light"
     },
     "output_type": "display_data"
    },
    {
     "name": "stdout",
     "output_type": "stream",
     "text": [
      "the number of correctly classified objects of class 1 for the test data is 1940\n"
     ]
    }
   ],
   "source": [
    "clf_dt_cm = confusion_matrix(y_test1, dt_predictions)\n",
    "plot_confusion_matrix(clf_dt, x_test1, y_test1)\n",
    "plt.show();\n",
    "target_class = 1\n",
    "print(\"the number of correctly classified objects of class {0} for the test data is {1}\".format(target_class, clf_dt_cm[target_class][target_class]))"
   ]
  },
  {
   "cell_type": "markdown",
   "metadata": {},
   "source": [
    "# PCA again"
   ]
  },
  {
   "cell_type": "code",
   "execution_count": 65,
   "metadata": {},
   "outputs": [],
   "source": [
    "import pandas as pd"
   ]
  },
  {
   "cell_type": "code",
   "execution_count": 66,
   "metadata": {},
   "outputs": [],
   "source": [
    "url = 'https://courses.openedu.ru/assets/courseware/v1/25c0abab1076236b7427fac937c5663e/asset-v1:ITMOUniversity+ADVMLEN+spring_2021_ITMO+type@asset+block/pred_for_task.csv'\n",
    "df = pd.read_csv(url, header = 0)"
   ]
  },
  {
   "cell_type": "code",
   "execution_count": 67,
   "metadata": {},
   "outputs": [
    {
     "data": {
      "text/html": [
       "<div>\n",
       "<style scoped>\n",
       "    .dataframe tbody tr th:only-of-type {\n",
       "        vertical-align: middle;\n",
       "    }\n",
       "\n",
       "    .dataframe tbody tr th {\n",
       "        vertical-align: top;\n",
       "    }\n",
       "\n",
       "    .dataframe thead th {\n",
       "        text-align: right;\n",
       "    }\n",
       "</style>\n",
       "<table border=\"1\" class=\"dataframe\">\n",
       "  <thead>\n",
       "    <tr style=\"text-align: right;\">\n",
       "      <th></th>\n",
       "      <th>Label</th>\n",
       "      <th>f0</th>\n",
       "      <th>f1</th>\n",
       "      <th>f2</th>\n",
       "      <th>f3</th>\n",
       "      <th>f4</th>\n",
       "      <th>f5</th>\n",
       "      <th>f6</th>\n",
       "      <th>f7</th>\n",
       "      <th>f8</th>\n",
       "      <th>...</th>\n",
       "      <th>f774</th>\n",
       "      <th>f775</th>\n",
       "      <th>f776</th>\n",
       "      <th>f777</th>\n",
       "      <th>f778</th>\n",
       "      <th>f779</th>\n",
       "      <th>f780</th>\n",
       "      <th>f781</th>\n",
       "      <th>f782</th>\n",
       "      <th>f783</th>\n",
       "    </tr>\n",
       "    <tr>\n",
       "      <th>FileName</th>\n",
       "      <th></th>\n",
       "      <th></th>\n",
       "      <th></th>\n",
       "      <th></th>\n",
       "      <th></th>\n",
       "      <th></th>\n",
       "      <th></th>\n",
       "      <th></th>\n",
       "      <th></th>\n",
       "      <th></th>\n",
       "      <th></th>\n",
       "      <th></th>\n",
       "      <th></th>\n",
       "      <th></th>\n",
       "      <th></th>\n",
       "      <th></th>\n",
       "      <th></th>\n",
       "      <th></th>\n",
       "      <th></th>\n",
       "      <th></th>\n",
       "      <th></th>\n",
       "    </tr>\n",
       "  </thead>\n",
       "  <tbody>\n",
       "    <tr>\n",
       "      <th>file26</th>\n",
       "      <td>0</td>\n",
       "      <td>0</td>\n",
       "      <td>0</td>\n",
       "      <td>0</td>\n",
       "      <td>0</td>\n",
       "      <td>0</td>\n",
       "      <td>0</td>\n",
       "      <td>0</td>\n",
       "      <td>0</td>\n",
       "      <td>0</td>\n",
       "      <td>...</td>\n",
       "      <td>0</td>\n",
       "      <td>0</td>\n",
       "      <td>0</td>\n",
       "      <td>0</td>\n",
       "      <td>0</td>\n",
       "      <td>0</td>\n",
       "      <td>0</td>\n",
       "      <td>0</td>\n",
       "      <td>0</td>\n",
       "      <td>0</td>\n",
       "    </tr>\n",
       "    <tr>\n",
       "      <th>file28</th>\n",
       "      <td>4</td>\n",
       "      <td>0</td>\n",
       "      <td>0</td>\n",
       "      <td>0</td>\n",
       "      <td>0</td>\n",
       "      <td>0</td>\n",
       "      <td>0</td>\n",
       "      <td>0</td>\n",
       "      <td>0</td>\n",
       "      <td>0</td>\n",
       "      <td>...</td>\n",
       "      <td>0</td>\n",
       "      <td>0</td>\n",
       "      <td>0</td>\n",
       "      <td>0</td>\n",
       "      <td>0</td>\n",
       "      <td>0</td>\n",
       "      <td>0</td>\n",
       "      <td>0</td>\n",
       "      <td>0</td>\n",
       "      <td>0</td>\n",
       "    </tr>\n",
       "    <tr>\n",
       "      <th>file29</th>\n",
       "      <td>0</td>\n",
       "      <td>0</td>\n",
       "      <td>0</td>\n",
       "      <td>0</td>\n",
       "      <td>0</td>\n",
       "      <td>0</td>\n",
       "      <td>0</td>\n",
       "      <td>0</td>\n",
       "      <td>0</td>\n",
       "      <td>0</td>\n",
       "      <td>...</td>\n",
       "      <td>0</td>\n",
       "      <td>0</td>\n",
       "      <td>0</td>\n",
       "      <td>0</td>\n",
       "      <td>0</td>\n",
       "      <td>0</td>\n",
       "      <td>0</td>\n",
       "      <td>0</td>\n",
       "      <td>0</td>\n",
       "      <td>0</td>\n",
       "    </tr>\n",
       "  </tbody>\n",
       "</table>\n",
       "<p>3 rows × 785 columns</p>\n",
       "</div>"
      ],
      "text/plain": [
       "          Label  f0  f1  f2  f3  f4  f5  f6  f7  f8  ...  f774  f775  f776  \\\n",
       "FileName                                             ...                     \n",
       "file26        0   0   0   0   0   0   0   0   0   0  ...     0     0     0   \n",
       "file28        4   0   0   0   0   0   0   0   0   0  ...     0     0     0   \n",
       "file29        0   0   0   0   0   0   0   0   0   0  ...     0     0     0   \n",
       "\n",
       "          f777  f778  f779  f780  f781  f782  f783  \n",
       "FileName                                            \n",
       "file26       0     0     0     0     0     0     0  \n",
       "file28       0     0     0     0     0     0     0  \n",
       "file29       0     0     0     0     0     0     0  \n",
       "\n",
       "[3 rows x 785 columns]"
      ]
     },
     "execution_count": 67,
     "metadata": {},
     "output_type": "execute_result"
    }
   ],
   "source": [
    "test_images = df[df[\"FileName\"].isin(['file28', 'file29', 'file26'])]\n",
    "test_images.set_index(\"FileName\", inplace = True)\n",
    "test_images.head()"
   ]
  },
  {
   "cell_type": "code",
   "execution_count": 68,
   "metadata": {},
   "outputs": [
    {
     "name": "stdout",
     "output_type": "stream",
     "text": [
      "0\n"
     ]
    }
   ],
   "source": [
    "features = test_images.iloc[:,1:]\n",
    "label = test_images.iloc[:,:1]\n",
    "print(int(label.loc['file26']))"
   ]
  },
  {
   "cell_type": "code",
   "execution_count": 69,
   "metadata": {},
   "outputs": [],
   "source": [
    "features_transform0 = model_pca1.transform(features)\n",
    "features_transform = pd.DataFrame(features_transform0, index = features.index)"
   ]
  },
  {
   "cell_type": "code",
   "execution_count": 70,
   "metadata": {},
   "outputs": [
    {
     "name": "stdout",
     "output_type": "stream",
     "text": [
      "Probability for file28 is 0.800\n"
     ]
    }
   ],
   "source": [
    "#prediction probability for file28 by random forest\n",
    "file = 'file28'\n",
    "proba = clf_rf.predict_proba(features_transform.loc[[file], :])\n",
    "proba = proba[0]r\n",
    "target = int(label.loc[file])\n",
    "print(\"Probability for {0} is {1:.3f}\".format(file, proba[target]))"
   ]
  },
  {
   "cell_type": "code",
   "execution_count": 71,
   "metadata": {},
   "outputs": [
    {
     "name": "stdout",
     "output_type": "stream",
     "text": [
      "Probability for file29 is 0.979\n"
     ]
    }
   ],
   "source": [
    "#prediction probability for file29 by random forest\n",
    "file = 'file29'\n",
    "proba = clf_lr.predict_proba(features_transform.loc[[file], :])\n",
    "proba = proba[0]\n",
    "target = int(label.loc[file])\n",
    "print(\"Probability for {0} is {1:.3f}\".format(file, proba[target]))"
   ]
  },
  {
   "cell_type": "code",
   "execution_count": 72,
   "metadata": {},
   "outputs": [
    {
     "name": "stdout",
     "output_type": "stream",
     "text": [
      "Probability for file26 is 0.449\n"
     ]
    }
   ],
   "source": [
    "#prediction probability for file26 by decision tree\n",
    "file = 'file26'\n",
    "proba = clf_dt.predict_proba(features_transform.loc[[file], :])\n",
    "proba = proba[0]\n",
    "target = int(label.loc[file])\n",
    "print(\"Probability for {0} is {1:.3f}\".format(file, proba[target]))"
   ]
  }
 ],
 "metadata": {
  "kernelspec": {
   "display_name": "Python 3",
   "language": "python",
   "name": "python3"
  },
  "language_info": {
   "codemirror_mode": {
    "name": "ipython",
    "version": 3
   },
   "file_extension": ".py",
   "mimetype": "text/x-python",
   "name": "python",
   "nbconvert_exporter": "python",
   "pygments_lexer": "ipython3",
   "version": "3.8.5"
  }
 },
 "nbformat": 4,
 "nbformat_minor": 4
}
